{
  "nbformat": 4,
  "nbformat_minor": 0,
  "metadata": {
    "colab": {
      "provenance": [],
      "authorship_tag": "ABX9TyOb5r7tfb6QeZeQHnUEJMi3",
      "include_colab_link": true
    },
    "kernelspec": {
      "name": "python3",
      "display_name": "Python 3"
    },
    "language_info": {
      "name": "python"
    }
  },
  "cells": [
    {
      "cell_type": "markdown",
      "metadata": {
        "id": "view-in-github",
        "colab_type": "text"
      },
      "source": [
        "<a href=\"https://colab.research.google.com/github/OlgaHumphreys/goit-algo-hw-05/blob/main/goit_algo_hw_05.ipynb\" target=\"_parent\"><img src=\"https://colab.research.google.com/assets/colab-badge.svg\" alt=\"Open In Colab\"/></a>"
      ]
    },
    {
      "cell_type": "code",
      "source": [
        "class HashTable:\n",
        "    def __init__(self, size):\n",
        "        self.size = size\n",
        "        self.table = [None] * size\n",
        "\n",
        "    def hash_function(self, key):\n",
        "        return hash(key) % self.size\n",
        "\n",
        "    def insert(self, key, value):\n",
        "        key_hash = self.hash_function(key)\n",
        "        if self.table[key_hash] is None:\n",
        "            self.table[key_hash] = [(key, value)]\n",
        "        else:\n",
        "            for pair in self.table[key_hash]:\n",
        "                if pair[0] == key:\n",
        "                    pair = (key, value)\n",
        "                    return True\n",
        "            self.table[key_hash].append((key, value))\n",
        "            return True\n",
        "\n",
        "    def get(self, key):\n",
        "        key_hash = self.hash_function(key)\n",
        "        if self.table[key_hash] is not None:\n",
        "            for pair in self.table[key_hash]:\n",
        "                if pair[0] == key:\n",
        "                    return pair[1]\n",
        "        return None\n",
        "\n",
        "    def delete(self, key):\n",
        "        key_hash = self.hash_function(key)\n",
        "        if self.table[key_hash] is not None:\n",
        "            for i, pair in enumerate(self.table[key_hash]):\n",
        "                if pair[0] == key:\n",
        "                    del self.table[key_hash][i]\n",
        "                    return True\n",
        "        return False\n"
      ],
      "metadata": {
        "id": "ja9dbwQJOh8J"
      },
      "execution_count": 3,
      "outputs": []
    },
    {
      "cell_type": "markdown",
      "source": [
        "Завдання 2\n",
        "\n",
        "Реалізувати двійковий пошук для відсортованого масиву з дробовими числами. Написана функція для двійкового пошуку повинна повертати кортеж, де першим елементом є кількість ітерацій, потрібних для знаходження елемента. Другим елементом має бути \"верхня межа\" — це найменший елемент, який є більшим або рівним заданому значенню."
      ],
      "metadata": {
        "id": "yx94hjNnRMoT"
      }
    },
    {
      "cell_type": "code",
      "source": [
        "def binary_search_with_upper_bound(arr, target):\n",
        "    low, high = 0, len(arr) - 1\n",
        "    iterations = 0\n",
        "    upper_bound = None\n",
        "\n",
        "    while low <= high:\n",
        "        iterations += 1\n",
        "        mid = low + (high - low) // 2\n",
        "\n",
        "        if arr[mid] == target:\n",
        "            return (iterations, arr[mid])\n",
        "\n",
        "        if arr[mid] < target:\n",
        "            low = mid + 1\n",
        "        else:\n",
        "            upper_bound = arr[mid]\n",
        "            high = mid - 1\n",
        "\n",
        "    return (iterations, upper_bound)\n",
        "\n",
        "\n",
        "sorted_array = [1.1, 2.2, 3.3, 4.4, 5.5, 6.6, 7.7]\n",
        "target_value = 4.0\n",
        "result = binary_search_with_upper_bound(sorted_array, target_value)\n",
        "print(result)\n"
      ],
      "metadata": {
        "colab": {
          "base_uri": "https://localhost:8080/"
        },
        "id": "8LyGFBOqRSW8",
        "outputId": "61a2011c-ed26-4a27-fa2e-b02fefe65ff0"
      },
      "execution_count": 4,
      "outputs": [
        {
          "output_type": "stream",
          "name": "stdout",
          "text": [
            "(3, 4.4)\n"
          ]
        }
      ]
    },
    {
      "cell_type": "markdown",
      "source": [
        "Завдання 3\n",
        "\n",
        "Порівняти ефективність алгоритмів пошуку підрядка: Боєра-Мура, Кнута-Морріса-Пратта та Рабіна-Карпа на основі двох текстових файлів (стаття 1, стаття 2). Використовуючи timeit, треба виміряти час виконання кожного алгоритму для двох видів підрядків: одного, що дійсно існує в тексті, та іншого — вигаданого (вибір підрядків за вашим бажанням). На основі отриманих даних визначити найшвидший алгоритм для кожного тексту окремо та в цілому."
      ],
      "metadata": {
        "id": "IlYHdlwWgQEL"
      }
    },
    {
      "cell_type": "markdown",
      "source": [
        "Алгоритм Бойєра-Мура"
      ],
      "metadata": {
        "id": "kIlcn4YzkzXl"
      }
    },
    {
      "cell_type": "code",
      "source": [
        "def boyer_moore_search(text, pattern):\n",
        "    m, n = len(pattern), len(text)\n",
        "    if m == 0: return 0\n",
        "    bad_char = [-1] * 256\n",
        "    for i in range(m):\n",
        "        bad_char[ord(pattern[i])] = i\n",
        "    s = 0\n",
        "    while(s <= n - m):\n",
        "        j = m - 1\n",
        "        while j >= 0 and pattern[j] == text[s + j]:\n",
        "            j -= 1\n",
        "        if j < 0:\n",
        "            return s\n",
        "        else:\n",
        "            s += max(1, j - bad_char[ord(text[s + j])])\n",
        "    return -1\n"
      ],
      "metadata": {
        "id": "YBr4x43VgWqR"
      },
      "execution_count": 5,
      "outputs": []
    },
    {
      "cell_type": "markdown",
      "source": [
        "Алгоритм Кнута-Морріса-Пратта"
      ],
      "metadata": {
        "id": "TMLPB4iCk4jD"
      }
    },
    {
      "cell_type": "code",
      "source": [
        "def kmp_search(text, pattern):\n",
        "    def kmp_table(pattern):\n",
        "        table = [0] * len(pattern)\n",
        "        j = 0\n",
        "        for i in range(1, len(pattern)):\n",
        "            if pattern[i] == pattern[j]:\n",
        "                j += 1\n",
        "                table[i] = j\n",
        "            else:\n",
        "                if j != 0:\n",
        "                    j = table[j - 1]\n",
        "                    i -= 1\n",
        "                else:\n",
        "                    table[i] = 0\n",
        "        return table\n",
        "\n",
        "    m, n = len(pattern), len(text)\n",
        "    table = kmp_table(pattern)\n",
        "    i = j = 0\n",
        "    while i < n:\n",
        "        if pattern[j] == text[i]:\n",
        "            i += 1\n",
        "            j += 1\n",
        "        if j == m:\n",
        "            return i - j\n",
        "        elif i < n and pattern[j] != text[i]:\n",
        "            if j != 0:\n",
        "                j = table[j - 1]\n",
        "            else:\n",
        "                i += 1\n",
        "    return -1\n"
      ],
      "metadata": {
        "id": "nA6tPcIvk9Pk"
      },
      "execution_count": 6,
      "outputs": []
    },
    {
      "cell_type": "markdown",
      "source": [
        "Алгоритм Рабіна-Карпа"
      ],
      "metadata": {
        "id": "VuHKMEtulAU9"
      }
    },
    {
      "cell_type": "code",
      "source": [
        "def rabin_karp_search(text, pattern):\n",
        "    d = 256\n",
        "    q = 101\n",
        "    m = len(pattern)\n",
        "    n = len(text)\n",
        "    p = 0\n",
        "    t = 0\n",
        "    h = 1\n",
        "    for i in range(m-1):\n",
        "        h = (h * d) % q\n",
        "    for i in range(m):\n",
        "        p = (d * p + ord(pattern[i])) % q\n",
        "        t = (d * t + ord(text[i])) % q\n",
        "    for i in range(n - m + 1):\n",
        "        if p == t:\n",
        "            if text[i:i+m] == pattern:\n",
        "                return i\n",
        "        if i < n - m:\n",
        "            t = (d*(t - ord(text[i])*h) + ord(text[i + m])) % q\n",
        "            if t < 0:\n",
        "                t += q\n",
        "    return -1\n"
      ],
      "metadata": {
        "id": "ds0Dm1rVlFij"
      },
      "execution_count": 7,
      "outputs": []
    },
    {
      "cell_type": "markdown",
      "source": [
        "Використання timeit для вимірювання часу виконання"
      ],
      "metadata": {
        "id": "-i_OZz9Xlnh1"
      }
    },
    {
      "cell_type": "code",
      "source": [
        "import timeit\n",
        "\n",
        "existing_substring = 'your_existing_substring'\n",
        "non_existing_substring = 'your_non_existing_substring'\n",
        "\n",
        "def measure_time(text, pattern, search_fn):\n",
        "    return timeit.timeit(lambda: search_fn(text, pattern), number=1)\n",
        "\n",
        "\n",
        "\n",
        "\n",
        "\n"
      ],
      "metadata": {
        "id": "ppv_NEVJlom2"
      },
      "execution_count": 11,
      "outputs": []
    }
  ]
}